{
  "nbformat": 4,
  "nbformat_minor": 0,
  "metadata": {
    "colab": {
      "provenance": [],
      "authorship_tag": "ABX9TyOiQqAqRu5r3fI9I/6oIQIj",
      "include_colab_link": true
    },
    "kernelspec": {
      "name": "python3",
      "display_name": "Python 3"
    },
    "language_info": {
      "name": "python"
    }
  },
  "cells": [
    {
      "cell_type": "markdown",
      "metadata": {
        "id": "view-in-github",
        "colab_type": "text"
      },
      "source": [
        "<a href=\"https://colab.research.google.com/github/ikeyulestica/STQD6014--Data-Science/blob/main/Assignment2.ipynb\" target=\"_parent\"><img src=\"https://colab.research.google.com/assets/colab-badge.svg\" alt=\"Open In Colab\"/></a>"
      ]
    },
    {
      "cell_type": "code",
      "source": [
        "# bank_account.py\n",
        "\n",
        "class BankAccount:\n",
        "\n",
        "    def __init__(self, username, full_name, ic_num, city, phone_num, initial_savings=0):\n",
        "        self.username = username\n",
        "        self.full_name = full_name\n",
        "        self.ic_num = ic_num\n",
        "        self.city = city\n",
        "        self.phone_num = phone_num\n",
        "        self.balance = initial_savings\n",
        "        if initial_savings < 20:\n",
        "            raise ValueError(\"Initial savings must be at least RM20\")\n",
        "\n",
        "    def deposit(self, amount):\n",
        "        self.balance += amount\n",
        "        print(f\"Deposited RM{amount}. New balance is RM{self.balance}\")\n",
        "\n",
        "    def withdraw(self, amount):\n",
        "        if self.balance - amount < 20:\n",
        "            print(\"Withdrawal rejected. Balance must remain at least RM20\")\n",
        "            return\n",
        "        self.balance -= amount\n",
        "        print(f\"Withdrew RM{amount}. New balance is RM{self.balance}\")\n",
        "\n",
        "    def check_balance(self):\n",
        "        return self.balance\n",
        "\n",
        "    def close_account(self):\n",
        "        print(\"Account closed\")\n",
        "        self.balance = 0\n",
        "\n",
        "class ChildAccount(BankAccount):\n",
        "    def __init__(self, parent_acc, *args, **kwargs):\n",
        "        self.parent_acc = parent_acc\n",
        "        super().__init__(*args, **kwargs)"
      ],
      "metadata": {
        "id": "yR7zUzG3MrqJ"
      },
      "execution_count": 1,
      "outputs": []
    },
    {
      "cell_type": "code",
      "source": [
        "#import BankAccount\n",
        "\n",
        "# Create parent and child accounts\n",
        "parent =  BankAccount(\"john123\", \"John Tan\", \"801120-10-5213\", \"Kuala Lumpur\", \"012-3456789\", 200)\n",
        "child = ChildAccount(parent, \"timmy345\", \"Timmy Tan\", \"-\", \"Kuala Lumpur\", \"019-2735621\", 50)\n",
        "\n",
        "# Scenario 1 - open accounts\n",
        "print(parent.full_name,\",\",child.full_name)\n",
        "print(\"\\n\")\n",
        "\n",
        "# Scenario 2 - deposit and withdraw money /n\n",
        "parent.deposit(100)\n",
        "print(f\"Parent {parent.full_name} balance: RM{parent.check_balance():.2f}\")\n",
        "print(\"\\n\")\n",
        "\n",
        "child.withdraw(10)\n",
        "print(f\"Child {child.full_name} balance: RM{child.check_balance():.2f}\")\n",
        "print(\"\\n\")\n",
        "\n",
        "# Scenario 3 - child unsuccessful withdrawal, close account\n",
        "child.withdraw(80)\n",
        "child.check_balance()\n",
        "child.close_account()"
      ],
      "metadata": {
        "colab": {
          "base_uri": "https://localhost:8080/"
        },
        "id": "BHZF9XqeMwYQ",
        "outputId": "b2b27295-6359-4cd7-bac5-5177b5456273"
      },
      "execution_count": 12,
      "outputs": [
        {
          "output_type": "stream",
          "name": "stdout",
          "text": [
            "John Tan , Timmy Tan\n",
            "\n",
            "\n",
            "Deposited RM100. New balance is RM300\n",
            "Parent John Tan balance: RM300.00\n",
            "\n",
            "\n",
            "Withdrew RM10. New balance is RM40\n",
            "Child Timmy Tan balance: RM40.00\n",
            "\n",
            "\n",
            "Withdrawal rejected. Balance must remain at least RM20\n",
            "Account closed\n"
          ]
        }
      ]
    }
  ]
}