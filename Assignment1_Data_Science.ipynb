{
  "nbformat": 4,
  "nbformat_minor": 0,
  "metadata": {
    "colab": {
      "provenance": [],
      "authorship_tag": "ABX9TyMJ5bGpfR6EvasAqB8zzcKS",
      "include_colab_link": true
    },
    "kernelspec": {
      "name": "python3",
      "display_name": "Python 3"
    },
    "language_info": {
      "name": "python"
    }
  },
  "cells": [
    {
      "cell_type": "markdown",
      "metadata": {
        "id": "view-in-github",
        "colab_type": "text"
      },
      "source": [
        "<a href=\"https://colab.research.google.com/github/ikeyulestica/STQD6014--Data-Science/blob/main/Assignment1_Data_Science.ipynb\" target=\"_parent\"><img src=\"https://colab.research.google.com/assets/colab-badge.svg\" alt=\"Open In Colab\"/></a>"
      ]
    },
    {
      "cell_type": "code",
      "source": [
        "# Hardcoded student data\n",
        "students = {\n",
        "    \"Ika\": {\"subjects\": [\"BM\", \"English\", \"Math\"],\n",
        "            \"scores\": [80, 75, 85]},\n",
        "\n",
        "    \"Ira\": {\"subjects\": [\"BM\", \"English\", \"Science\"],\n",
        "            \"scores\": [70, 80, 75]},\n",
        "\n",
        "    \"Imran\": {\"subjects\": [\"BM\", \"Math\", \"Physics\"],\n",
        "              \"scores\": [65, 75, 80]}\n",
        "}\n",
        "\n",
        "while True:\n",
        "    name = input(\"\\nEnter student name (or 'quit' to stop): \")\n",
        "    if name.lower() == 'quit':\n",
        "        break\n",
        "\n",
        "    # Check if name matches hardcoded data\n",
        "    if name in students:\n",
        "        info = students[name]\n",
        "        subjects = info[\"subjects\"]\n",
        "        scores = info[\"scores\"]\n",
        "\n",
        "    else:\n",
        "        # Prompt for input\n",
        "        subjects = []\n",
        "        scores = []\n",
        "        num_subjects = int(input(\"Enter number of subjects: \"))\n",
        "\n",
        "        for i in range(num_subjects):\n",
        "            subject = input(\"Enter subject: \")\n",
        "            subjects.append(subject)\n",
        "            score = int(input(\"Enter score: \"))\n",
        "            scores.append(score)\n",
        "\n",
        "    # Calculate average scores\n",
        "    def calculate_average(scores):\n",
        "        return sum(scores) / len(scores)\n",
        "\n",
        "    avg = calculate_average(scores)\n",
        "\n",
        "    print(f\"\\n{name}'s scores:\")\n",
        "    for i in range(len(subjects)):\n",
        "        print(f\"{subjects[i]}: {scores[i]}\")\n",
        "\n",
        "    print(f\"Average score: {avg}\")\n",
        "\n",
        "    repeat = input(\"Enter another student? (yes/no)\")\n",
        "    if repeat.lower() == 'no':\n",
        "        break\n",
        "\n",
        "print(\"\\n--- Results ---\")\n",
        "\n",
        "# Print highest and lowest scorers\n",
        "highest = max(calculate_average(info[\"scores\"]) for info in students.values())\n",
        "lowest = min(calculate_average(info[\"scores\"]) for info in students.values())\n",
        "\n",
        "print(f\"\\nHighest score: {highest}\")\n",
        "print(f\"Lowest score: {lowest}\")"
      ],
      "metadata": {
        "colab": {
          "base_uri": "https://localhost:8080/"
        },
        "id": "L5XZzJnBznMv",
        "outputId": "d8346efd-9935-4cab-d3ba-1a8ec2f7f142"
      },
      "execution_count": null,
      "outputs": [
        {
          "name": "stdout",
          "output_type": "stream",
          "text": [
            "\n",
            "Enter student name (or 'quit' to stop): ika\n",
            "Enter number of subjects: 3\n",
            "Enter subject: BM\n",
            "Enter score: 80\n"
          ]
        }
      ]
    }
  ]
}